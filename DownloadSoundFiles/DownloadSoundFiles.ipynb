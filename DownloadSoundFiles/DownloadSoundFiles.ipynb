{
 "cells": [
  {
   "cell_type": "code",
   "execution_count": 88,
   "metadata": {
    "ExecuteTime": {
     "end_time": "2020-07-31T14:23:39.479183Z",
     "start_time": "2020-07-31T14:23:39.472200Z"
    }
   },
   "outputs": [],
   "source": [
    "import pandas as pd\n",
    "from pathlib import Path\n",
    "import requests\n",
    "import re\n"
   ]
  },
  {
   "cell_type": "code",
   "execution_count": 33,
   "metadata": {
    "ExecuteTime": {
     "end_time": "2020-08-03T12:43:14.235486Z",
     "start_time": "2020-08-03T12:43:14.230496Z"
    }
   },
   "outputs": [],
   "source": [
    "folderToOpen = Path(\"../Data/\")\n",
    "fileName = \"BemTeVi.csv\"\n",
    "filePath = folderToOpen / fileName"
   ]
  },
  {
   "cell_type": "code",
   "execution_count": 49,
   "metadata": {
    "ExecuteTime": {
     "end_time": "2020-08-03T12:54:40.360869Z",
     "start_time": "2020-08-03T12:54:40.356882Z"
    }
   },
   "outputs": [
    {
     "data": {
      "text/plain": [
       "'C:\\\\Users\\\\ptize\\\\Documents\\\\GitHub\\\\iNaturalistDatasetGenerator\\\\Data\\\\BemTeVi\\\\bob.mp3'"
      ]
     },
     "execution_count": 49,
     "metadata": {},
     "output_type": "execute_result"
    }
   ],
   "source": [
    "folderForData = folderToOpen / filePath.stem\n",
    "#for child in folderForData.iterdir(): print(child)\n",
    "fname = 'bob.mp3'\n",
    "fname = str(folderForData.resolve()) + '\\\\' + fname\n",
    "fname"
   ]
  },
  {
   "cell_type": "code",
   "execution_count": 37,
   "metadata": {
    "ExecuteTime": {
     "end_time": "2020-08-03T12:43:49.175218Z",
     "start_time": "2020-08-03T12:43:49.131075Z"
    }
   },
   "outputs": [],
   "source": [
    "df_Pardal = pd.read_csv(filePath)"
   ]
  },
  {
   "cell_type": "code",
   "execution_count": 91,
   "metadata": {
    "ExecuteTime": {
     "end_time": "2020-07-31T14:23:41.412395Z",
     "start_time": "2020-07-31T14:23:41.402422Z"
    },
    "scrolled": true
   },
   "outputs": [
    {
     "data": {
      "text/plain": [
       "'https://static.inaturalist.org/sounds/1798.3gp?1503947995'"
      ]
     },
     "execution_count": 91,
     "metadata": {},
     "output_type": "execute_result"
    }
   ],
   "source": [
    "df_Pardal.iloc[1,13]"
   ]
  },
  {
   "cell_type": "code",
   "execution_count": 92,
   "metadata": {
    "ExecuteTime": {
     "end_time": "2020-07-31T14:23:43.686332Z",
     "start_time": "2020-07-31T14:23:43.672373Z"
    }
   },
   "outputs": [
    {
     "data": {
      "text/plain": [
       "0      https://static.inaturalist.org/sounds/126.m4a?...\n",
       "1      https://static.inaturalist.org/sounds/1798.3gp...\n",
       "2      https://static.inaturalist.org/sounds/1970.wav...\n",
       "3      https://static.inaturalist.org/sounds/2307.m4a...\n",
       "4      https://static.inaturalist.org/sounds/2698.wav...\n",
       "5      https://static.inaturalist.org/sounds/4506.mp3...\n",
       "6      https://static.inaturalist.org/sounds/14058.m4...\n",
       "7      https://static.inaturalist.org/sounds/6123.m4a...\n",
       "8      https://static.inaturalist.org/sounds/6080.wav...\n",
       "9      https://static.inaturalist.org/sounds/12086.3g...\n",
       "10     https://static.inaturalist.org/sounds/8908.mp3...\n",
       "11     https://static.inaturalist.org/sounds/9062.mp3...\n",
       "12     https://static.inaturalist.org/sounds/9248.mp3...\n",
       "13     https://static.inaturalist.org/sounds/9606.mp3...\n",
       "14     https://static.inaturalist.org/sounds/9702.wav...\n",
       "15                                                   NaN\n",
       "16     https://static.inaturalist.org/sounds/9890.m4a...\n",
       "17                                                   NaN\n",
       "18     https://static.inaturalist.org/sounds/10771.3g...\n",
       "19     https://static.inaturalist.org/sounds/11662.wa...\n",
       "20     https://static.inaturalist.org/sounds/11787.wa...\n",
       "21     https://static.inaturalist.org/sounds/14153.wa...\n",
       "22     https://static.inaturalist.org/sounds/14248.m4...\n",
       "23                                                   NaN\n",
       "24     https://static.inaturalist.org/sounds/17435.x-...\n",
       "25     https://static.inaturalist.org/sounds/17643.wa...\n",
       "26     https://static.inaturalist.org/sounds/18300.m4...\n",
       "27     https://static.inaturalist.org/sounds/18579.mp...\n",
       "28     https://static.inaturalist.org/sounds/18584.x-...\n",
       "29     https://static.inaturalist.org/sounds/18585.x-...\n",
       "                             ...                        \n",
       "655    https://static.inaturalist.org/sounds/103103.m...\n",
       "656    https://static.inaturalist.org/sounds/103224.w...\n",
       "657    https://static.inaturalist.org/sounds/103685.w...\n",
       "658    https://static.inaturalist.org/sounds/103928.m...\n",
       "659    https://static.inaturalist.org/sounds/105964.m...\n",
       "660    https://static.inaturalist.org/sounds/105967.m...\n",
       "661    https://static.inaturalist.org/sounds/106179.m...\n",
       "662    https://static.inaturalist.org/sounds/106681.m...\n",
       "663    https://static.inaturalist.org/sounds/106975.m...\n",
       "664    https://static.inaturalist.org/sounds/107028.w...\n",
       "665    https://static.inaturalist.org/sounds/107093.w...\n",
       "666    https://static.inaturalist.org/sounds/107153.w...\n",
       "667    https://static.inaturalist.org/sounds/107366.w...\n",
       "668    https://static.inaturalist.org/sounds/107405.m...\n",
       "669    https://static.inaturalist.org/sounds/107452.w...\n",
       "670    https://static.inaturalist.org/sounds/107713.m...\n",
       "671    https://static.inaturalist.org/sounds/107827.w...\n",
       "672    https://static.inaturalist.org/sounds/108552.w...\n",
       "673    https://static.inaturalist.org/sounds/109092.w...\n",
       "674    https://static.inaturalist.org/sounds/109096.m...\n",
       "675    https://static.inaturalist.org/sounds/110622.m...\n",
       "676    https://static.inaturalist.org/sounds/111083.m...\n",
       "677    https://static.inaturalist.org/sounds/111270.m...\n",
       "678    https://static.inaturalist.org/sounds/111366.m...\n",
       "679    https://static.inaturalist.org/sounds/111646.w...\n",
       "680    https://static.inaturalist.org/sounds/112010.w...\n",
       "681    https://static.inaturalist.org/sounds/112040.m...\n",
       "682    https://static.inaturalist.org/sounds/112054.w...\n",
       "683    https://static.inaturalist.org/sounds/112104.m...\n",
       "684    https://static.inaturalist.org/sounds/112795.m...\n",
       "Name: sound_url, Length: 685, dtype: object"
      ]
     },
     "execution_count": 92,
     "metadata": {},
     "output_type": "execute_result"
    }
   ],
   "source": [
    "df_Pardal.sound_url"
   ]
  },
  {
   "cell_type": "code",
   "execution_count": 93,
   "metadata": {
    "ExecuteTime": {
     "end_time": "2020-07-31T14:23:46.492711Z",
     "start_time": "2020-07-31T14:23:45.125152Z"
    }
   },
   "outputs": [],
   "source": [
    "urlToDownload = df_Pardal.iloc[1,13]\n",
    "r = requests.get(urlToDownload, allow_redirects=True)"
   ]
  },
  {
   "cell_type": "code",
   "execution_count": 34,
   "metadata": {
    "ExecuteTime": {
     "end_time": "2020-07-31T13:42:53.197880Z",
     "start_time": "2020-07-31T13:42:53.181925Z"
    }
   },
   "outputs": [
    {
     "data": {
      "text/plain": [
       "1113092"
      ]
     },
     "execution_count": 34,
     "metadata": {},
     "output_type": "execute_result"
    }
   ],
   "source": [
    "open('birb.3gp', 'wb').write(r.content)"
   ]
  },
  {
   "cell_type": "code",
   "execution_count": 94,
   "metadata": {
    "ExecuteTime": {
     "end_time": "2020-07-31T14:23:55.286961Z",
     "start_time": "2020-07-31T14:23:55.276988Z"
    }
   },
   "outputs": [
    {
     "data": {
      "text/plain": [
       "'https://static.inaturalist.org/sounds/1798.3gp?1503947995'"
      ]
     },
     "execution_count": 94,
     "metadata": {},
     "output_type": "execute_result"
    }
   ],
   "source": [
    "df_Pardal.sound_url[1]"
   ]
  },
  {
   "cell_type": "code",
   "execution_count": 95,
   "metadata": {
    "ExecuteTime": {
     "end_time": "2020-07-31T14:41:22.686754Z",
     "start_time": "2020-07-31T14:23:58.284465Z"
    }
   },
   "outputs": [],
   "source": [
    "\n",
    "for url in df_Pardal.sound_url:\n",
    "    if isinstance(url,str):\n",
    "        urlToDownload = url.split('?')[0]\n",
    "        try:\n",
    "            with requests.get(urlToDownload) as r:\n",
    "        \n",
    "                fname = ''\n",
    "                if \"Content-Disposition\" in r.headers.keys():\n",
    "                    fname = re.findall(\"filename=(.+)\", r.headers[\"Content-Disposition\"])[0]\n",
    "                else:\n",
    "                    fname = urlToDownload.split(\"/\")[-1]\n",
    "        \n",
    "                #print(fname)\n",
    "        except RequestException as e:\n",
    "            print(e)\n",
    "        \n",
    "        open(fname, 'wb').write(r.content)\n"
   ]
  },
  {
   "cell_type": "code",
   "execution_count": 49,
   "metadata": {
    "ExecuteTime": {
     "end_time": "2020-07-31T13:50:32.035900Z",
     "start_time": "2020-07-31T13:50:32.026924Z"
    }
   },
   "outputs": [
    {
     "data": {
      "text/plain": [
       "<Response [200]>"
      ]
     },
     "execution_count": 49,
     "metadata": {},
     "output_type": "execute_result"
    }
   ],
   "source": [
    "r"
   ]
  },
  {
   "cell_type": "code",
   "execution_count": 52,
   "metadata": {
    "ExecuteTime": {
     "end_time": "2020-07-31T13:51:50.911362Z",
     "start_time": "2020-07-31T13:51:50.903384Z"
    }
   },
   "outputs": [
    {
     "data": {
      "text/plain": [
       "{'Content-Type': 'video/3gpp', 'Content-Length': '1113092', 'Connection': 'keep-alive', 'Date': 'Fri, 31 Jul 2020 13:42:03 GMT', 'Last-Modified': 'Mon, 28 Aug 2017 19:19:57 GMT', 'ETag': '\"854d76480dcc285b3026284a032d916c\"', 'Accept-Ranges': 'bytes', 'Server': 'AmazonS3', 'X-Cache': 'Miss from cloudfront', 'Via': '1.1 517d2577302def91b3dd63d535e63fd2.cloudfront.net (CloudFront)', 'X-Amz-Cf-Pop': 'MIA3-C1', 'X-Amz-Cf-Id': '82vYRcd_-ZSmmThIIpHkcgZwTjj8DZrhhHM3N4GHEhAiOMaB0cFguA=='}"
      ]
     },
     "execution_count": 52,
     "metadata": {},
     "output_type": "execute_result"
    }
   ],
   "source": [
    "r.headers"
   ]
  },
  {
   "cell_type": "code",
   "execution_count": 55,
   "metadata": {
    "ExecuteTime": {
     "end_time": "2020-07-31T14:03:41.844264Z",
     "start_time": "2020-07-31T14:03:41.837281Z"
    }
   },
   "outputs": [
    {
     "data": {
      "text/plain": [
       "'https://static.inaturalist.org/sounds/1798.3gp?1503947995'"
      ]
     },
     "execution_count": 55,
     "metadata": {},
     "output_type": "execute_result"
    }
   ],
   "source": [
    "urlToDownload"
   ]
  },
  {
   "cell_type": "code",
   "execution_count": 61,
   "metadata": {
    "ExecuteTime": {
     "end_time": "2020-07-31T14:07:03.453482Z",
     "start_time": "2020-07-31T14:07:03.444504Z"
    }
   },
   "outputs": [
    {
     "data": {
      "text/plain": [
       "'https://static.inaturalist.org/sounds/1798.3gp'"
      ]
     },
     "execution_count": 61,
     "metadata": {},
     "output_type": "execute_result"
    }
   ],
   "source": [
    "url = urlToDownload.split('?')[0]\n",
    "url"
   ]
  },
  {
   "cell_type": "code",
   "execution_count": 62,
   "metadata": {
    "ExecuteTime": {
     "end_time": "2020-07-31T14:07:23.919741Z",
     "start_time": "2020-07-31T14:07:21.713677Z"
    }
   },
   "outputs": [
    {
     "name": "stdout",
     "output_type": "stream",
     "text": [
      "1798.3gp\n"
     ]
    }
   ],
   "source": [
    "try:\n",
    "    with requests.get(url) as r:\n",
    "\n",
    "        fname = ''\n",
    "        if \"Content-Disposition\" in r.headers.keys():\n",
    "            fname = re.findall(\"filename=(.+)\", r.headers[\"Content-Disposition\"])[0]\n",
    "        else:\n",
    "            fname = url.split(\"/\")[-1]\n",
    "\n",
    "        print(fname)\n",
    "except RequestException as e:\n",
    "    print(e)"
   ]
  },
  {
   "cell_type": "code",
   "execution_count": 64,
   "metadata": {
    "ExecuteTime": {
     "end_time": "2020-07-31T14:09:07.185493Z",
     "start_time": "2020-07-31T14:09:07.176518Z"
    }
   },
   "outputs": [
    {
     "data": {
      "text/plain": [
       "'1798.3gp?1503947995'"
      ]
     },
     "execution_count": 64,
     "metadata": {},
     "output_type": "execute_result"
    }
   ],
   "source": [
    "urlToDownload.split('/')[-1]"
   ]
  },
  {
   "cell_type": "code",
   "execution_count": 65,
   "metadata": {
    "ExecuteTime": {
     "end_time": "2020-07-31T14:11:05.513591Z",
     "start_time": "2020-07-31T14:11:05.508605Z"
    }
   },
   "outputs": [],
   "source": [
    "i = 0"
   ]
  },
  {
   "cell_type": "code",
   "execution_count": 66,
   "metadata": {
    "ExecuteTime": {
     "end_time": "2020-07-31T14:11:07.680178Z",
     "start_time": "2020-07-31T14:11:07.673194Z"
    }
   },
   "outputs": [
    {
     "ename": "SyntaxError",
     "evalue": "invalid syntax (<ipython-input-66-56f7e036d680>, line 1)",
     "output_type": "error",
     "traceback": [
      "\u001b[1;36m  File \u001b[1;32m\"<ipython-input-66-56f7e036d680>\"\u001b[1;36m, line \u001b[1;32m1\u001b[0m\n\u001b[1;33m    i++\u001b[0m\n\u001b[1;37m       ^\u001b[0m\n\u001b[1;31mSyntaxError\u001b[0m\u001b[1;31m:\u001b[0m invalid syntax\n"
     ]
    }
   ],
   "source": [
    "i++"
   ]
  },
  {
   "cell_type": "code",
   "execution_count": 73,
   "metadata": {
    "ExecuteTime": {
     "end_time": "2020-07-31T14:12:27.606405Z",
     "start_time": "2020-07-31T14:12:27.600424Z"
    }
   },
   "outputs": [],
   "source": [
    "i +=1"
   ]
  },
  {
   "cell_type": "code",
   "execution_count": 74,
   "metadata": {
    "ExecuteTime": {
     "end_time": "2020-07-31T14:12:27.816843Z",
     "start_time": "2020-07-31T14:12:27.808868Z"
    }
   },
   "outputs": [
    {
     "data": {
      "text/plain": [
       "4"
      ]
     },
     "execution_count": 74,
     "metadata": {},
     "output_type": "execute_result"
    }
   ],
   "source": [
    "i"
   ]
  },
  {
   "cell_type": "code",
   "execution_count": 85,
   "metadata": {
    "ExecuteTime": {
     "end_time": "2020-07-31T14:22:33.163996Z",
     "start_time": "2020-07-31T14:22:33.156013Z"
    }
   },
   "outputs": [
    {
     "data": {
      "text/plain": [
       "False"
      ]
     },
     "execution_count": 85,
     "metadata": {},
     "output_type": "execute_result"
    }
   ],
   "source": [
    "isinstance(url,str)"
   ]
  },
  {
   "cell_type": "code",
   "execution_count": null,
   "metadata": {},
   "outputs": [],
   "source": []
  }
 ],
 "metadata": {
  "kernelspec": {
   "display_name": "Python 3",
   "language": "python",
   "name": "python3"
  },
  "language_info": {
   "codemirror_mode": {
    "name": "ipython",
    "version": 3
   },
   "file_extension": ".py",
   "mimetype": "text/x-python",
   "name": "python",
   "nbconvert_exporter": "python",
   "pygments_lexer": "ipython3",
   "version": "3.7.3"
  },
  "toc": {
   "base_numbering": 1,
   "nav_menu": {},
   "number_sections": true,
   "sideBar": true,
   "skip_h1_title": false,
   "title_cell": "Table of Contents",
   "title_sidebar": "Contents",
   "toc_cell": false,
   "toc_position": {},
   "toc_section_display": true,
   "toc_window_display": false
  },
  "varInspector": {
   "cols": {
    "lenName": 16,
    "lenType": 16,
    "lenVar": 40
   },
   "kernels_config": {
    "python": {
     "delete_cmd_postfix": "",
     "delete_cmd_prefix": "del ",
     "library": "var_list.py",
     "varRefreshCmd": "print(var_dic_list())"
    },
    "r": {
     "delete_cmd_postfix": ") ",
     "delete_cmd_prefix": "rm(",
     "library": "var_list.r",
     "varRefreshCmd": "cat(var_dic_list()) "
    }
   },
   "types_to_exclude": [
    "module",
    "function",
    "builtin_function_or_method",
    "instance",
    "_Feature"
   ],
   "window_display": false
  }
 },
 "nbformat": 4,
 "nbformat_minor": 2
}
